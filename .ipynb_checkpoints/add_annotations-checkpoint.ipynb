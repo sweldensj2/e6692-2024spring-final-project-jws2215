{
 "cells": [
  {
   "cell_type": "markdown",
   "id": "412e835f-7cd8-4361-bf3c-940c449b7b15",
   "metadata": {},
   "source": [
    "### Data Processing Notebook"
   ]
  },
  {
   "cell_type": "code",
   "execution_count": 6,
   "id": "8eb23c32-3cf1-4f91-b3f2-ee770508d65b",
   "metadata": {},
   "outputs": [
    {
     "ename": "ImportError",
     "evalue": "cannot import name 'download_images3' from 'utils.pretrained_deployment' (/Users/johansweldens/Documents/EECS6692.DLoE/final_project/e6692-2024spring-final-project-jws2215/utils/pretrained_deployment.py)",
     "output_type": "error",
     "traceback": [
      "\u001b[0;31m---------------------------------------------------------------------------\u001b[0m",
      "\u001b[0;31mImportError\u001b[0m                               Traceback (most recent call last)",
      "Cell \u001b[0;32mIn[6], line 7\u001b[0m\n\u001b[1;32m      4\u001b[0m \u001b[38;5;28;01mimport\u001b[39;00m \u001b[38;5;21;01mnumpy\u001b[39;00m \u001b[38;5;28;01mas\u001b[39;00m \u001b[38;5;21;01mnp\u001b[39;00m\n\u001b[1;32m      5\u001b[0m \u001b[38;5;28;01mfrom\u001b[39;00m \u001b[38;5;21;01mIPython\u001b[39;00m\u001b[38;5;21;01m.\u001b[39;00m\u001b[38;5;21;01mdisplay\u001b[39;00m \u001b[38;5;28;01mimport\u001b[39;00m Video, display\n\u001b[0;32m----> 7\u001b[0m \u001b[38;5;28;01mfrom\u001b[39;00m \u001b[38;5;21;01mutils\u001b[39;00m\u001b[38;5;21;01m.\u001b[39;00m\u001b[38;5;21;01mpretrained_deployment\u001b[39;00m \u001b[38;5;28;01mimport\u001b[39;00m download_images, download_images2, download_images3, download_images_with_resize\n\u001b[1;32m      8\u001b[0m \u001b[38;5;28;01mfrom\u001b[39;00m \u001b[38;5;21;01mutils\u001b[39;00m\u001b[38;5;21;01m.\u001b[39;00m\u001b[38;5;21;01mdisplay\u001b[39;00m \u001b[38;5;28;01mimport\u001b[39;00m \u001b[38;5;241m*\u001b[39m\n\u001b[1;32m     10\u001b[0m device \u001b[38;5;241m=\u001b[39m \u001b[38;5;124m'\u001b[39m\u001b[38;5;124mcuda\u001b[39m\u001b[38;5;124m'\u001b[39m\n",
      "\u001b[0;31mImportError\u001b[0m: cannot import name 'download_images3' from 'utils.pretrained_deployment' (/Users/johansweldens/Documents/EECS6692.DLoE/final_project/e6692-2024spring-final-project-jws2215/utils/pretrained_deployment.py)"
     ]
    }
   ],
   "source": [
    "# import packages\n",
    "import os\n",
    "import cv2\n",
    "import numpy as np\n",
    "from IPython.display import Video, display\n",
    "\n",
    "from utils.pretrained_deployment import download_images, download_images2, download_images3, download_images_with_resize\n",
    "from utils.display import *\n",
    "\n",
    "device = 'cuda'\n",
    "\n",
    "# reload modules every 2 seconds to see changes in notebook\n",
    "%load_ext autoreload\n",
    "%autoreload 2\n",
    "\n",
    "%matplotlib inline"
   ]
  },
  {
   "cell_type": "code",
   "execution_count": 7,
   "id": "18a88245-02c5-4c65-bca6-2d6e8ce5d3ec",
   "metadata": {},
   "outputs": [
    {
     "ename": "NameError",
     "evalue": "name 'download_images_with_resize' is not defined",
     "output_type": "error",
     "traceback": [
      "\u001b[0;31m---------------------------------------------------------------------------\u001b[0m",
      "\u001b[0;31mNameError\u001b[0m                                 Traceback (most recent call last)",
      "Cell \u001b[0;32mIn[7], line 23\u001b[0m\n\u001b[1;32m     21\u001b[0m target_size \u001b[38;5;241m=\u001b[39m (\u001b[38;5;241m320\u001b[39m, \u001b[38;5;241m320\u001b[39m)\n\u001b[1;32m     22\u001b[0m \u001b[38;5;28;01mfor\u001b[39;00m query \u001b[38;5;129;01min\u001b[39;00m queries:\n\u001b[0;32m---> 23\u001b[0m     download_images_with_resize(query, num_images, target_size\u001b[38;5;241m=\u001b[39mtarget_size)\n",
      "\u001b[0;31mNameError\u001b[0m: name 'download_images_with_resize' is not defined"
     ]
    }
   ],
   "source": [
    "classes = [\"empire_state_building\", \n",
    "\"1_world_trade_center\", \n",
    "\"chrysler_building\", \n",
    "\"432_park_ave\", \n",
    "\"statue_of_liberty\",\n",
    "\"brooklyn_bridge\",\n",
    "\"vessel_nyc\",\n",
    "\"united_nations_building\",\n",
    "\"grand_central_terminal\",\n",
    "\"flatiron\"]\n",
    "\n",
    "queries = [\"empire_state_building_from_the_ground\", \n",
    "\"1_world_trade_center\", \n",
    "\"432_park_ave\", \n",
    "\"united_nations_building\",\n",
    "\"flatiron\"]\n",
    "\n",
    "\n",
    "# query = 'empire_state_building_from_the_ground'\n",
    "num_images = 10\n",
    "target_size = (320, 320)\n",
    "for query in queries:\n",
    "    download_images_with_resize(query, num_images, target_size=target_size)"
   ]
  },
  {
   "cell_type": "code",
   "execution_count": null,
   "id": "40575741-217c-46d6-8b34-ca573f8391d2",
   "metadata": {},
   "outputs": [],
   "source": []
  }
 ],
 "metadata": {
  "kernelspec": {
   "display_name": "Python 3 (ipykernel)",
   "language": "python",
   "name": "python3"
  },
  "language_info": {
   "codemirror_mode": {
    "name": "ipython",
    "version": 3
   },
   "file_extension": ".py",
   "mimetype": "text/x-python",
   "name": "python",
   "nbconvert_exporter": "python",
   "pygments_lexer": "ipython3",
   "version": "3.11.7"
  }
 },
 "nbformat": 4,
 "nbformat_minor": 5
}
