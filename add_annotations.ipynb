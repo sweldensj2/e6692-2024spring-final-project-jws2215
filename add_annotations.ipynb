{
 "cells": [
  {
   "cell_type": "markdown",
   "id": "412e835f-7cd8-4361-bf3c-940c449b7b15",
   "metadata": {},
   "source": [
    "### Data Processing Notebook"
   ]
  },
  {
   "cell_type": "code",
   "execution_count": 9,
   "id": "8eb23c32-3cf1-4f91-b3f2-ee770508d65b",
   "metadata": {},
   "outputs": [
    {
     "name": "stdout",
     "output_type": "stream",
     "text": [
      "The autoreload extension is already loaded. To reload it, use:\n",
      "  %reload_ext autoreload\n"
     ]
    }
   ],
   "source": [
    "# import packages\n",
    "import os\n",
    "import cv2\n",
    "import numpy as np\n",
    "from IPython.display import Video, display\n",
    "\n",
    "from utils.pretrained_deployment import download_images, download_images2, download_images_with_resize\n",
    "from utils.display import *\n",
    "\n",
    "device = 'cuda'\n",
    "\n",
    "# reload modules every 2 seconds to see changes in notebook\n",
    "%load_ext autoreload\n",
    "%autoreload 2\n",
    "\n",
    "%matplotlib inline"
   ]
  },
  {
   "cell_type": "code",
   "execution_count": 10,
   "id": "18a88245-02c5-4c65-bca6-2d6e8ce5d3ec",
   "metadata": {},
   "outputs": [],
   "source": [
    "classes = [\"empire_state_building\", \n",
    "\"1_world_trade_center\", \n",
    "\"chrysler_building\", \n",
    "\"432_park_ave\", \n",
    "\"statue_of_liberty\",\n",
    "\"brooklyn_bridge\",\n",
    "\"vessel_nyc\",\n",
    "\"united_nations_building\",\n",
    "\"grand_central_terminal\",\n",
    "\"flatiron\"]\n",
    "\n",
    "queries = [\"empire_state_building_from_the_ground\", \n",
    "\"1_world_trade_center\", \n",
    "\"432_park_ave\", \n",
    "\"united_nations_building\",\n",
    "\"flatiron\"]\n",
    "\n",
    "\n",
    "# query = 'empire_state_building_from_the_ground'\n",
    "num_images = 10\n",
    "target_size = (320, 320)\n",
    "for query in queries:\n",
    "    download_images_with_resize(query, num_images, target_size=target_size)"
   ]
  },
  {
   "cell_type": "code",
   "execution_count": null,
   "id": "40575741-217c-46d6-8b34-ca573f8391d2",
   "metadata": {},
   "outputs": [],
   "source": []
  }
 ],
 "metadata": {
  "kernelspec": {
   "display_name": "Python 3 (ipykernel)",
   "language": "python",
   "name": "python3"
  },
  "language_info": {
   "codemirror_mode": {
    "name": "ipython",
    "version": 3
   },
   "file_extension": ".py",
   "mimetype": "text/x-python",
   "name": "python",
   "nbconvert_exporter": "python",
   "pygments_lexer": "ipython3",
   "version": "3.11.7"
  }
 },
 "nbformat": 4,
 "nbformat_minor": 5
}
