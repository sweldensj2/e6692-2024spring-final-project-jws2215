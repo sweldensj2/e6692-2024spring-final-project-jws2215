{
 "cells": [
  {
   "cell_type": "markdown",
   "id": "412e835f-7cd8-4361-bf3c-940c449b7b15",
   "metadata": {},
   "source": [
    "### Data Processing Notebook"
   ]
  },
  {
   "cell_type": "code",
   "execution_count": null,
   "id": "8eb23c32-3cf1-4f91-b3f2-ee770508d65b",
   "metadata": {},
   "outputs": [],
   "source": []
  }
 ],
 "metadata": {
  "kernelspec": {
   "display_name": "Python 3 (ipykernel)",
   "language": "python",
   "name": "python3"
  },
  "language_info": {
   "codemirror_mode": {
    "name": "ipython",
    "version": 3
   },
   "file_extension": ".py",
   "mimetype": "text/x-python",
   "name": "python",
   "nbconvert_exporter": "python",
   "pygments_lexer": "ipython3",
   "version": "3.11.7"
  }
 },
 "nbformat": 4,
 "nbformat_minor": 5
}
